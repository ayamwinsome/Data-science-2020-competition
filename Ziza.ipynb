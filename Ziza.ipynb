{
 "cells": [
  {
   "cell_type": "code",
   "execution_count": 1,
   "metadata": {},
   "outputs": [],
   "source": [
    "import pandas as pd\n",
    "import numpy as np\n",
    "from sklearn.metrics import roc_auc_score, log_loss\n",
    "import matplotlib.pyplot as plt\n",
    "import seaborn as sns\n",
    "from sklearn.model_selection import StratifiedKFold\n",
    "import catboost as cat_\n",
    "import seaborn as sns\n",
    "import lightgbm as lgb\n",
    "import random"
   ]
  },
  {
   "cell_type": "code",
   "execution_count": 2,
   "metadata": {},
   "outputs": [],
   "source": [
    "sub = pd.read_csv('C:\\\\Users\\\\WINSOME\\\\loan dataset\\\\SampleSubmission.csv')\n",
    "train  = pd.read_csv('C:\\\\Users\\\\WINSOME\\\\loan dataset\\\\train.csv')\n",
    "test  = pd.read_csv('C:\\\\Users\\\\WINSOME\\\\loan dataset\\\\test.csv')"
   ]
  },
  {
   "cell_type": "code",
   "execution_count": 3,
   "metadata": {},
   "outputs": [],
   "source": [
    "hold = test.Applicant_ID"
   ]
  },
  {
   "cell_type": "code",
   "execution_count": 4,
   "metadata": {},
   "outputs": [
    {
     "data": {
      "text/plain": [
       "<matplotlib.axes._subplots.AxesSubplot at 0x1d362d18080>"
      ]
     },
     "execution_count": 4,
     "metadata": {},
     "output_type": "execute_result"
    },
    {
     "data": {
      "image/png": "[encoded data removed]",
      "text/plain": [
       "<Figure size 432x288 with 1 Axes>"
      ]
     },
     "metadata": {},
     "output_type": "display_data"
    }
   ],
   "source": [
    "sns.countplot(train.default_status)"
   ]
  },
  {
   "cell_type": "code",
   "execution_count": 5,
   "metadata": {},
   "outputs": [
    {
     "data": {
      "text/plain": [
       "Applicant_ID      0.000000\n",
       "form_field1       0.045161\n",
       "form_field2       0.068643\n",
       "form_field3       0.006339\n",
       "form_field4       0.006339\n",
       "form_field5       0.006339\n",
       "form_field6       0.238571\n",
       "form_field7       0.092196\n",
       "form_field8       0.238571\n",
       "form_field9       0.143000\n",
       "form_field10      0.006339\n",
       "form_field11      0.561089\n",
       "form_field12      0.176696\n",
       "form_field13      0.105161\n",
       "form_field14      0.000000\n",
       "form_field15      0.401339\n",
       "form_field16      0.232786\n",
       "form_field17      0.199125\n",
       "form_field18      0.185750\n",
       "form_field19      0.000071\n",
       "form_field20      0.006339\n",
       "form_field21      0.283107\n",
       "form_field22      0.364286\n",
       "form_field23      0.502196\n",
       "form_field24      0.237446\n",
       "form_field25      0.097321\n",
       "form_field26      0.132821\n",
       "form_field27      0.166054\n",
       "form_field28      0.006339\n",
       "form_field29      0.006339\n",
       "form_field30      0.455518\n",
       "form_field31      0.703714\n",
       "form_field32      0.097321\n",
       "form_field33      0.022429\n",
       "form_field34      0.006339\n",
       "form_field35      0.413357\n",
       "form_field36      0.035625\n",
       "form_field37      0.097321\n",
       "form_field38      0.006339\n",
       "form_field39      0.075196\n",
       "form_field40      0.780875\n",
       "form_field41      0.682661\n",
       "form_field42      0.023625\n",
       "form_field43      0.010143\n",
       "form_field44      0.096125\n",
       "form_field45      0.559232\n",
       "form_field46      0.284000\n",
       "form_field47      0.000000\n",
       "form_field48      0.373018\n",
       "form_field49      0.006339\n",
       "form_field50      0.197429\n",
       "default_status    0.000000\n",
       "dtype: float64"
      ]
     },
     "execution_count": 5,
     "metadata": {},
     "output_type": "execute_result"
    }
   ],
   "source": [
    "train.isna().sum()/train.shape[0]"
   ]
  },
  {
   "cell_type": "code",
   "execution_count": 6,
   "metadata": {},
   "outputs": [],
   "source": [
    "changing= {'charge':0,'lending':1}\n",
    "\n",
    "train['form_field47'].replace(changing, inplace = True)\n",
    "test['form_field47'].replace(changing, inplace = True)"
   ]
  },
  {
   "cell_type": "code",
   "execution_count": 7,
   "metadata": {},
   "outputs": [],
   "source": [
    "change= {'no':0,'yes':1}\n",
    "train['default_status'].replace(change, inplace = True)"
   ]
  },
  {
   "cell_type": "code",
   "execution_count": 8,
   "metadata": {},
   "outputs": [],
   "source": [
    "data= train.append(test)[train.columns]"
   ]
  },
  {
   "cell_type": "code",
   "execution_count": 9,
   "metadata": {},
   "outputs": [],
   "source": [
    "train = data[data.default_status.notna()]\n",
    "test = data[data.default_status.isna()].drop('default_status', 1)"
   ]
  },
  {
   "cell_type": "code",
   "execution_count": 10,
   "metadata": {},
   "outputs": [
    {
     "data": {
      "text/plain": [
       "((56000, 52), (24000, 51))"
      ]
     },
     "execution_count": 10,
     "metadata": {},
     "output_type": "execute_result"
    }
   ],
   "source": [
    "train.shape, test.shape"
   ]
  },
  {
   "cell_type": "code",
   "execution_count": 11,
   "metadata": {},
   "outputs": [
    {
     "data": {
      "text/plain": [
       "0.0    75.508929\n",
       "1.0    24.491071\n",
       "Name: default_status, dtype: float64"
      ]
     },
     "execution_count": 11,
     "metadata": {},
     "output_type": "execute_result"
    }
   ],
   "source": [
    "train['default_status'].value_counts()/len(train)*100"
   ]
  },
  {
   "cell_type": "code",
   "execution_count": 12,
   "metadata": {},
   "outputs": [],
   "source": [
    "from sklearn.model_selection import train_test_split, StratifiedKFold\n",
    "from sklearn.metrics import log_loss"
   ]
  },
  {
   "cell_type": "code",
   "execution_count": 13,
   "metadata": {},
   "outputs": [],
   "source": [
    "def crossVal(model):\n",
    "    avg = 0\n",
    "    for fold, (tr, te) in enumerate(skfolds.split(xtrainval, ytrainval), 1):\n",
    "        train_x, test_x = xtrainval.iloc[tr], xtrainval.iloc[te]\n",
    "        train_y, test_y = ytrainval.iloc[tr], ytrainval.iloc[te]\n",
    "        \n",
    "        model.fit(train_x, train_y, eval_set=[(train_x, train_y), (test_x, test_y)], \n",
    "                  early_stopping_rounds=200, verbose=False)\n",
    "        preds = model.predict_proba(test_x)[:,1]\n",
    "        logloss = log_loss(test_y, preds)\n",
    "        print(f'Fold {fold}: Logloss: {logloss}')\n",
    "        avg += logloss\n",
    "    free = gc.collect()\n",
    "    print(f'Avg Logloss: {avg/fold}')"
   ]
  },
  {
   "cell_type": "code",
   "execution_count": 14,
   "metadata": {},
   "outputs": [],
   "source": [
    "def crossValPred(model):\n",
    "    avg = 0\n",
    "    test_scores = []\n",
    "    for fold, (tr, te) in enumerate(skfolds.split(X, y), 1):\n",
    "        train_x, test_x = X.iloc[tr], X.iloc[te]\n",
    "        train_y, test_y = y.iloc[tr], y.iloc[te]\n",
    "        \n",
    "        model.fit(train_x, train_y, eval_set=[(train_x, train_y), (test_x, test_y)], \n",
    "                  early_stopping_rounds=200, verbose=False)\n",
    "        \n",
    "        preds = model.predict_proba(test_x)[:, 1]\n",
    "        logloss = log_loss(test_y, preds)\n",
    "        print(f'Fold {fold}: Logloss: {logloss}')\n",
    "        avg += logloss\n",
    "        \n",
    "        \n",
    "        test_pred = model.predict_proba(test_c)[:,1]\n",
    "        test_scores.append(test_pred)\n",
    "    print(f'Avg Logloss: {avg/fold}')\n",
    "    free = gc.collect()\n",
    "    return np.mean(test_scores, 0)"
   ]
  },
  {
   "cell_type": "code",
   "execution_count": 15,
   "metadata": {},
   "outputs": [],
   "source": [
    "seed = 1994\n",
    "random.seed(seed)\n",
    "np.random.seed(seed)"
   ]
  },
  {
   "cell_type": "code",
   "execution_count": 16,
   "metadata": {},
   "outputs": [],
   "source": [
    "cat_cols = train.select_dtypes('object').columns.drop(['Applicant_ID'], 1)"
   ]
  },
  {
   "cell_type": "code",
   "execution_count": 17,
   "metadata": {},
   "outputs": [
    {
     "name": "stderr",
     "output_type": "stream",
     "text": [
      "C:\\Users\\WINSOME\\AppData\\Roaming\\Python\\Python36\\site-packages\\pandas\\core\\frame.py:4322: SettingWithCopyWarning: \n",
      "A value is trying to be set on a copy of a slice from a DataFrame\n",
      "\n",
      "See the caveats in the documentation: https://pandas.pydata.org/pandas-docs/stable/user_guide/indexing.html#returning-a-view-versus-a-copy\n",
      "  downcast=downcast,\n"
     ]
    }
   ],
   "source": [
    "train.fillna(-999, inplace=True)\n",
    "test.fillna(-999, inplace=True)"
   ]
  },
  {
   "cell_type": "code",
   "execution_count": 18,
   "metadata": {},
   "outputs": [],
   "source": [
    "%matplotlib inline\n",
    "pd.set_option('display.max_columns', 150)\n",
    "plt.style.use('seaborn-darkgrid')\n",
    "plt.rcParams['font.size'] = 12\n",
    "pd.set_option('display.max_colwidth', 2000)"
   ]
  },
  {
   "cell_type": "code",
   "execution_count": 19,
   "metadata": {},
   "outputs": [],
   "source": [
    "def plot_graph(model, xtr, ytr, ax=None):\n",
    "    fig, ax = plt.subplots(1,2,figsize=(10,4))\n",
    "    plot_confusion_matrix(model, xtr, ytr, ax=ax[0])\n",
    "    ax[0].grid(False)\n",
    "    plot_roc_curve(model, xtr, ytr, ax=ax[1])"
   ]
  },
  {
   "cell_type": "code",
   "execution_count": 20,
   "metadata": {},
   "outputs": [],
   "source": [
    "skfolds= StratifiedKFold(n_splits=5, random_state=seed, shuffle=True)"
   ]
  },
  {
   "cell_type": "code",
   "execution_count": 22,
   "metadata": {},
   "outputs": [
    {
     "name": "stderr",
     "output_type": "stream",
     "text": [
      "C:\\Users\\WINSOME\\AppData\\Roaming\\Python\\Python36\\site-packages\\pandas\\core\\frame.py:4169: SettingWithCopyWarning: \n",
      "A value is trying to be set on a copy of a slice from a DataFrame\n",
      "\n",
      "See the caveats in the documentation: https://pandas.pydata.org/pandas-docs/stable/user_guide/indexing.html#returning-a-view-versus-a-copy\n",
      "  errors=errors,\n"
     ]
    }
   ],
   "source": [
    "train.drop(['form_field48', 'form_field49'], axis = 1, inplace = True)\n",
    "test.drop(['form_field48', 'form_field49'], axis = 1, inplace = True)"
   ]
  },
  {
   "cell_type": "code",
   "execution_count": 23,
   "metadata": {},
   "outputs": [],
   "source": [
    "X = train.drop(['default_status', 'Applicant_ID'], axis = 1)\n",
    "y = train['default_status']\n",
    "test_c = test.drop(['Applicant_ID'], 1)"
   ]
  },
  {
   "cell_type": "code",
   "execution_count": 24,
   "metadata": {},
   "outputs": [],
   "source": [
    "from sklearn.model_selection import train_test_split, StratifiedKFold"
   ]
  },
  {
   "cell_type": "code",
   "execution_count": 25,
   "metadata": {},
   "outputs": [],
   "source": [
    "xtrainval, xtest, ytrainval, ytest = train_test_split(X, y, test_size=0.18, stratify=y, random_state=seed)\n",
    "xtrain, xval, ytrain, yval = train_test_split(xtrainval, ytrainval, test_size=0.20, stratify=ytrainval, random_state=seed)"
   ]
  },
  {
   "cell_type": "code",
   "execution_count": 26,
   "metadata": {},
   "outputs": [],
   "source": [
    "catboost = cat_.CatBoostClassifier(random_seed=seed, cat_features=cat_cols, bootstrap_type='Bernoulli', \n",
    "                              iterations=1000, silent=True, eval_metric='Logloss')"
   ]
  },
  {
   "cell_type": "code",
   "execution_count": 27,
   "metadata": {},
   "outputs": [
    {
     "name": "stdout",
     "output_type": "stream",
     "text": [
      "Learning rate set to 0.077177\n",
      "0:\tlearn: 0.6454188\ttest: 0.6455007\tbest: 0.6455007 (0)\ttotal: 286ms\tremaining: 4m 45s\n",
      "200:\tlearn: 0.3818579\ttest: 0.4073620\tbest: 0.4073620 (200)\ttotal: 11.8s\tremaining: 46.8s\n",
      "400:\tlearn: 0.3525390\ttest: 0.4065132\tbest: 0.4062084 (323)\ttotal: 23.2s\tremaining: 34.7s\n",
      "600:\tlearn: 0.3288724\ttest: 0.4081176\tbest: 0.4062084 (323)\ttotal: 36.4s\tremaining: 24.1s\n",
      "Stopped by overfitting detector  (350 iterations wait)\n",
      "\n",
      "bestTest = 0.4062084327\n",
      "bestIteration = 323\n",
      "\n",
      "Shrink model to first 324 iterations.\n",
      "Wall time: 41.8 s\n"
     ]
    },
    {
     "data": {
      "text/plain": [
       "<catboost.core.CatBoostClassifier at 0x1d364e5f240>"
      ]
     },
     "execution_count": 27,
     "metadata": {},
     "output_type": "execute_result"
    }
   ],
   "source": [
    "%%time\n",
    "catboost.fit(xtrain, ytrain, eval_set=[(xval,yval)], early_stopping_rounds=350, verbose=200);"
   ]
  },
  {
   "cell_type": "code",
   "execution_count": 28,
   "metadata": {},
   "outputs": [],
   "source": [
    "import os, gc, warnings\n",
    "warnings.filterwarnings('ignore')"
   ]
  },
  {
   "cell_type": "code",
   "execution_count": 29,
   "metadata": {},
   "outputs": [
    {
     "name": "stdout",
     "output_type": "stream",
     "text": [
      "Fold 1: Logloss: 0.41259944670660764\n",
      "Fold 2: Logloss: 0.40430564201016306\n",
      "Fold 3: Logloss: 0.4087375436626895\n",
      "Fold 4: Logloss: 0.4053728527315728\n",
      "Fold 5: Logloss: 0.40361400810985937\n",
      "Avg Logloss: 0.4069258986441785\n"
     ]
    }
   ],
   "source": [
    "crossVal(catboost)"
   ]
  },
  {
   "cell_type": "code",
   "execution_count": 30,
   "metadata": {},
   "outputs": [
    {
     "name": "stdout",
     "output_type": "stream",
     "text": [
      "Fold 1: Logloss: 0.40380363053915413\n",
      "Fold 2: Logloss: 0.4140782915749684\n",
      "Fold 3: Logloss: 0.4114149104103545\n",
      "Fold 4: Logloss: 0.40136130654204716\n",
      "Fold 5: Logloss: 0.40187849233041856\n",
      "Avg Logloss: 0.4065073262793885\n"
     ]
    }
   ],
   "source": [
    "catpred = crossValPred(catboost)"
   ]
  },
  {
   "cell_type": "code",
   "execution_count": 31,
   "metadata": {},
   "outputs": [],
   "source": [
    "X[cat_cols] = X[cat_cols].astype('category')\n",
    "test_c[cat_cols] = test_c[cat_cols].astype('category')"
   ]
  },
  {
   "cell_type": "code",
   "execution_count": 32,
   "metadata": {},
   "outputs": [],
   "source": [
    "xtrainval, xtest, ytrainval, ytest = train_test_split(X, y, test_size=0.18, stratify=y, random_state=seed)\n",
    "xtrain, xval, ytrain, yval = train_test_split(xtrainval, ytrainval, test_size=0.20, stratify=ytrainval, random_state=seed)"
   ]
  },
  {
   "cell_type": "code",
   "execution_count": 33,
   "metadata": {},
   "outputs": [],
   "source": [
    "lgbm = lgb.LGBMClassifier(random_state=seed, n_estimators=1000, metric='binary_logloss', learning_rate=0.04, subsample=0.7,\n",
    "                         colsample_bytree=0.8, num_leaves=64, reg_alpha=4, min_child_samples=5,subsample_freq=2)"
   ]
  },
  {
   "cell_type": "code",
   "execution_count": 34,
   "metadata": {},
   "outputs": [
    {
     "name": "stdout",
     "output_type": "stream",
     "text": [
      "Training until validation scores don't improve for 200 rounds\n",
      "[200]\ttraining's binary_logloss: 0.332239\tvalid_1's binary_logloss: 0.410527\n",
      "[400]\ttraining's binary_logloss: 0.280055\tvalid_1's binary_logloss: 0.41306\n",
      "Early stopping, best iteration is:\n",
      "[263]\ttraining's binary_logloss: 0.313815\tvalid_1's binary_logloss: 0.410359\n"
     ]
    }
   ],
   "source": [
    "lgbm.fit(xtrain, ytrain, eval_set=[(xtrain, ytrain), (xval,yval)], verbose=200, early_stopping_rounds=200);"
   ]
  },
  {
   "cell_type": "code",
   "execution_count": 35,
   "metadata": {},
   "outputs": [
    {
     "name": "stdout",
     "output_type": "stream",
     "text": [
      "Fold 1: Logloss: 0.4129744141503213\n",
      "Fold 2: Logloss: 0.4053998619063808\n",
      "Fold 3: Logloss: 0.41186173521509317\n",
      "Fold 4: Logloss: 0.40608642443007215\n",
      "Fold 5: Logloss: 0.40388461691767746\n",
      "Avg Logloss: 0.40804141052390897\n"
     ]
    }
   ],
   "source": [
    "crossVal(lgbm)"
   ]
  },
  {
   "cell_type": "code",
   "execution_count": 36,
   "metadata": {},
   "outputs": [
    {
     "name": "stdout",
     "output_type": "stream",
     "text": [
      "Fold 1: Logloss: 0.4036112103672774\n",
      "Fold 2: Logloss: 0.4136446358502129\n",
      "Fold 3: Logloss: 0.409634335950567\n",
      "Fold 4: Logloss: 0.4024076953754972\n",
      "Fold 5: Logloss: 0.40427941023014285\n",
      "Avg Logloss: 0.4067154575547394\n"
     ]
    }
   ],
   "source": [
    "lgb_pred = crossValPred(lgbm)"
   ]
  },
  {
   "cell_type": "code",
   "execution_count": 37,
   "metadata": {},
   "outputs": [],
   "source": [
    "blend = ((0.4 * lgb_pred + 0.6 * catpred) + (0.6 * lgb_pred + 0.4 * catpred))/2"
   ]
  },
  {
   "cell_type": "code",
   "execution_count": 41,
   "metadata": {},
   "outputs": [],
   "source": [
    "dlgb =  pd.DataFrame({'Applicant_ID' : hold, 'default_status' : lgb_pred})\n",
    "dcat =  pd.DataFrame({'Applicant_ID' : hold, 'default_status' : catpred})\n",
    "pblend =  pd.DataFrame({'Applicant_ID' : hold, 'default_status' : blend})"
   ]
  },
  {
   "cell_type": "code",
   "execution_count": 42,
   "metadata": {},
   "outputs": [
    {
     "data": {
      "text/html": [
       "<div>\n",
       "<style scoped>\n",
       "    .dataframe tbody tr th:only-of-type {\n",
       "        vertical-align: middle;\n",
       "    }\n",
       "\n",
       "    .dataframe tbody tr th {\n",
       "        vertical-align: top;\n",
       "    }\n",
       "\n",
       "    .dataframe thead th {\n",
       "        text-align: right;\n",
       "    }\n",
       "</style>\n",
       "<table border=\"1\" class=\"dataframe\">\n",
       "  <thead>\n",
       "    <tr style=\"text-align: right;\">\n",
       "      <th></th>\n",
       "      <th>LGB</th>\n",
       "      <th>CAT</th>\n",
       "      <th>BLEND</th>\n",
       "    </tr>\n",
       "  </thead>\n",
       "  <tbody>\n",
       "    <tr>\n",
       "      <th>0</th>\n",
       "      <td>0.280542</td>\n",
       "      <td>0.302969</td>\n",
       "      <td>0.291755</td>\n",
       "    </tr>\n",
       "    <tr>\n",
       "      <th>1</th>\n",
       "      <td>0.392058</td>\n",
       "      <td>0.400716</td>\n",
       "      <td>0.396387</td>\n",
       "    </tr>\n",
       "    <tr>\n",
       "      <th>2</th>\n",
       "      <td>0.409443</td>\n",
       "      <td>0.392604</td>\n",
       "      <td>0.401024</td>\n",
       "    </tr>\n",
       "    <tr>\n",
       "      <th>3</th>\n",
       "      <td>0.753498</td>\n",
       "      <td>0.736257</td>\n",
       "      <td>0.744877</td>\n",
       "    </tr>\n",
       "    <tr>\n",
       "      <th>4</th>\n",
       "      <td>0.141288</td>\n",
       "      <td>0.186834</td>\n",
       "      <td>0.164061</td>\n",
       "    </tr>\n",
       "    <tr>\n",
       "      <th>...</th>\n",
       "      <td>...</td>\n",
       "      <td>...</td>\n",
       "      <td>...</td>\n",
       "    </tr>\n",
       "    <tr>\n",
       "      <th>23995</th>\n",
       "      <td>0.734368</td>\n",
       "      <td>0.692921</td>\n",
       "      <td>0.713644</td>\n",
       "    </tr>\n",
       "    <tr>\n",
       "      <th>23996</th>\n",
       "      <td>0.243924</td>\n",
       "      <td>0.254136</td>\n",
       "      <td>0.249030</td>\n",
       "    </tr>\n",
       "    <tr>\n",
       "      <th>23997</th>\n",
       "      <td>0.233325</td>\n",
       "      <td>0.279037</td>\n",
       "      <td>0.256181</td>\n",
       "    </tr>\n",
       "    <tr>\n",
       "      <th>23998</th>\n",
       "      <td>0.514169</td>\n",
       "      <td>0.514363</td>\n",
       "      <td>0.514266</td>\n",
       "    </tr>\n",
       "    <tr>\n",
       "      <th>23999</th>\n",
       "      <td>0.205650</td>\n",
       "      <td>0.192452</td>\n",
       "      <td>0.199051</td>\n",
       "    </tr>\n",
       "  </tbody>\n",
       "</table>\n",
       "<p>24000 rows × 3 columns</p>\n",
       "</div>"
      ],
      "text/plain": [
       "            LGB       CAT     BLEND\n",
       "0      0.280542  0.302969  0.291755\n",
       "1      0.392058  0.400716  0.396387\n",
       "2      0.409443  0.392604  0.401024\n",
       "3      0.753498  0.736257  0.744877\n",
       "4      0.141288  0.186834  0.164061\n",
       "...         ...       ...       ...\n",
       "23995  0.734368  0.692921  0.713644\n",
       "23996  0.243924  0.254136  0.249030\n",
       "23997  0.233325  0.279037  0.256181\n",
       "23998  0.514169  0.514363  0.514266\n",
       "23999  0.205650  0.192452  0.199051\n",
       "\n",
       "[24000 rows x 3 columns]"
      ]
     },
     "execution_count": 42,
     "metadata": {},
     "output_type": "execute_result"
    }
   ],
   "source": [
    "pd.DataFrame(np.c_[lgb_pred, catpred, blend], columns=['LGB', 'CAT', 'BLEND'])"
   ]
  },
  {
   "cell_type": "code",
   "execution_count": 43,
   "metadata": {},
   "outputs": [],
   "source": [
    "dlgb.to_csv ('C:\\\\Users\\\\WINSOME\\\\lgb2a.csv',index=False)\n",
    "dcat.to_csv ('C:\\\\Users\\\\WINSOME\\\\cat2a.csv',index=False)\n",
    "pblend.to_csv ('C:\\\\Users\\\\WINSOME\\\\pblend.csv',index=False)"
   ]
  },
  {
   "cell_type": "code",
   "execution_count": null,
   "metadata": {},
   "outputs": [],
   "source": []
  },
  {
   "cell_type": "code",
   "execution_count": null,
   "metadata": {},
   "outputs": [],
   "source": []
  }
 ],
 "metadata": {
  "kernelspec": {
   "display_name": "Python 3",
   "language": "python",
   "name": "python3"
  },
  "language_info": {
   "codemirror_mode": {
    "name": "ipython",
    "version": 3
   },
   "file_extension": ".py",
   "mimetype": "text/x-python",
   "name": "python",
   "nbconvert_exporter": "python",
   "pygments_lexer": "ipython3",
   "version": "3.6.5"
  }
 },
 "nbformat": 4,
 "nbformat_minor": 2
}
